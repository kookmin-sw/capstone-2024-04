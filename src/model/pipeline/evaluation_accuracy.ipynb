{
 "cells": [
  {
   "cell_type": "code",
   "execution_count": 9,
   "id": "f4d5c814-d58f-490f-a25c-ef187864dc4c",
   "metadata": {
    "execution": {
     "iopub.execute_input": "2024-05-02T19:36:51.389390Z",
     "iopub.status.busy": "2024-05-02T19:36:51.387845Z",
     "iopub.status.idle": "2024-05-02T19:36:51.400501Z",
     "shell.execute_reply": "2024-05-02T19:36:51.397580Z",
     "shell.execute_reply.started": "2024-05-02T19:36:51.389266Z"
    }
   },
   "outputs": [],
   "source": [
    "# coco - # Convert [x_min, y_min, width, height] to [left, top, right, bottom]"
   ]
  },
  {
   "cell_type": "code",
   "execution_count": 10,
   "id": "a1bdc23e-8c7d-48f8-a638-69458228d7ec",
   "metadata": {
    "execution": {
     "iopub.execute_input": "2024-05-02T19:36:51.551382Z",
     "iopub.status.busy": "2024-05-02T19:36:51.550023Z",
     "iopub.status.idle": "2024-05-02T19:36:51.574818Z",
     "shell.execute_reply": "2024-05-02T19:36:51.573147Z",
     "shell.execute_reply.started": "2024-05-02T19:36:51.551265Z"
    }
   },
   "outputs": [],
   "source": [
    "## iou 계산하는 함수 -> iou값 반환\n",
    "def calculate_iou(box1, box2):\n",
    "    \"\"\"Calculate the Intersection over Union (IoU) of two bounding boxes using [x_min, y_min, width, height] format.\"\"\"\n",
    "    \n",
    "    # Convert [x_min, y_min, width, height] to [left, top, right, bottom]\n",
    "    left1, top1, right1, bottom1 = box1[0], box1[1], box1[2] + box1[0], box1[1] + box1[3]\n",
    "    left2, top2, right2, bottom2 = box2\n",
    "    print(left1, top1, right1, bottom1)\n",
    "    print(left2, top2, right2, bottom2)\n",
    "    print()\n",
    "    # Determine the coordinates of the intersection rectangle\n",
    "    x_left = max(left1, left2)\n",
    "    y_top = max(top1, top2)\n",
    "    x_right = min(right1, right2)\n",
    "    y_bottom = min(bottom1, bottom2)\n",
    "\n",
    "    # Calculate the area of intersection rectangle\n",
    "    if x_right < x_left or y_bottom < y_top:\n",
    "        return 0.0\n",
    "    intersection_area = (x_right - x_left) * (y_bottom - y_top)\n",
    "\n",
    "    # Calculate the area of both bounding boxes\n",
    "    box1_area = (right1 - left1) * (bottom1 - top1)\n",
    "    box2_area = (right2 - left2) * (bottom2 - top2)\n",
    "\n",
    "    # Compute the union area by using the formula:\n",
    "    # Union(A,B) = A + B - Inter(A,B)\n",
    "    union_area = box1_area + box2_area - intersection_area\n",
    "\n",
    "    # Compute the IoU by dividing the intersection area by the union area\n",
    "    iou = intersection_area / union_area\n",
    "    return iou\n",
    "\n",
    "## 가장 높은 iou값 찾는 함수 -> \biou값이 가장 높은 박스 인덱스 반환, 가장 높은 iou값 반환\n",
    "def find_highest_iou(label_box, pred_boxes):\n",
    "    # print(\"----------------------\")\n",
    "    highest_iou_idx = 0 \n",
    "    highest_iou = 0\n",
    "    \n",
    "    for idx, pred_box in enumerate(pred_boxes):\n",
    "        new_iou = calculate_iou(label_box, pred_box)\n",
    "        if new_iou > highest_iou:\n",
    "            highest_iou = new_iou\n",
    "            highest_iou_idx = idx\n",
    "    print(highest_iou)\n",
    "    print(\"----------------------\")\n",
    "    return highest_iou_idx, highest_iou\n",
    "        "
   ]
  },
  {
   "cell_type": "code",
   "execution_count": 11,
   "id": "6050bc17-9dd6-446a-b8a5-1ccf953aad33",
   "metadata": {
    "execution": {
     "iopub.execute_input": "2024-05-02T19:36:51.820526Z",
     "iopub.status.busy": "2024-05-02T19:36:51.819163Z",
     "iopub.status.idle": "2024-05-02T19:36:51.851432Z",
     "shell.execute_reply": "2024-05-02T19:36:51.849245Z",
     "shell.execute_reply.started": "2024-05-02T19:36:51.820437Z"
    }
   },
   "outputs": [
    {
     "data": {
      "text/plain": [
       "{'track': [[[1438.0, 660.0, 1911.0, 1075.0, 4.0, 0.8355054259300232, 0.0],\n",
       "   [351.0, 198.0, 663.0, 963.0, 3.0, 0.9168840646743774, 0.0],\n",
       "   [636.0, 21.0, 995.0, 1016.0, 2.0, 0.9225608706474304, 0.0],\n",
       "   [1071.0, 74.0, 1412.0, 1059.0, 1.0, 0.933046817779541, 0.0]],\n",
       "  [[368.0, 177.0, 660.0, 912.0, 3.0, 0.8756750822067261, 0.0],\n",
       "   [634.0, 26.0, 995.0, 1031.0, 2.0, 0.924189567565918, 0.0],\n",
       "   [1071.0, 73.0, 1406.0, 724.0, 1.0, 0.8405377864837646, 0.0]],\n",
       "  [[0.0, 528.0, 611.0, 1069.0, 5.0, 0.6889789700508118, 0.0],\n",
       "   [1449.0, 561.0, 1914.0, 1073.0, 4.0, 0.5336536765098572, 0.0],\n",
       "   [367.0, 155.0, 669.0, 968.0, 3.0, 0.9002348780632019, 0.0],\n",
       "   [634.0, 23.0, 995.0, 1015.0, 2.0, 0.9203681349754333, 0.0],\n",
       "   [1069.0, 70.0, 1412.0, 1061.0, 1.0, 0.9334538578987122, 0.0]]],\n",
       " 'par': {'0': [['4.0', 'teenager', 'male'],\n",
       "   ['3.0', 'adult', 'male'],\n",
       "   ['2.0', 'teenager', 'male'],\n",
       "   ['1.0', 'teenager', 'female']],\n",
       "  '1': [['3.0', 'teenager', 'female'],\n",
       "   ['2.0', 'teenager', 'male'],\n",
       "   ['1.0', 'teenager', 'male']],\n",
       "  '2': [['4.0', 'teenager', 'male'],\n",
       "   ['3.0', 'teenager', 'male'],\n",
       "   ['2.0', 'teenager', 'male'],\n",
       "   ['1.0', 'teenager', 'male'],\n",
       "   ['5.0', 'teenager', 'female']]},\n",
       " 'look': {'0': [['4.0', '0.99885774'],\n",
       "   ['3.0', '0.008174778'],\n",
       "   ['2.0', '0.92576104'],\n",
       "   ['1.0', '0.9886148']],\n",
       "  '1': [['3.0', '0.03816665'], ['2.0', '0.84953237'], ['1.0', '0.9881741']],\n",
       "  '2': [['4.0', '0.9939073'],\n",
       "   ['3.0', '0.87413925'],\n",
       "   ['2.0', '0.8970204'],\n",
       "   ['1.0', '0.99315965'],\n",
       "   ['5.0', '0.022663787']]}}"
      ]
     },
     "execution_count": 11,
     "metadata": {},
     "output_type": "execute_result"
    }
   ],
   "source": [
    "## 예측값 json 가져오기 \n",
    "import json\n",
    "\n",
    "# JSON 파일을 읽고 데이터를 파이썬 객체로 변환\n",
    "with open('resluts_for_eval.json', 'r', encoding='utf-8') as file:\n",
    "    pred = json.load(file)\n",
    "\n",
    "pred"
   ]
  },
  {
   "cell_type": "code",
   "execution_count": 12,
   "id": "8c9d576e-ac86-486a-8b0a-39a3cfd9605f",
   "metadata": {
    "execution": {
     "iopub.execute_input": "2024-05-02T19:36:51.947209Z",
     "iopub.status.busy": "2024-05-02T19:36:51.946073Z",
     "iopub.status.idle": "2024-05-02T19:36:51.976617Z",
     "shell.execute_reply": "2024-05-02T19:36:51.975026Z",
     "shell.execute_reply.started": "2024-05-02T19:36:51.947126Z"
    }
   },
   "outputs": [
    {
     "name": "stdout",
     "output_type": "stream",
     "text": [
      "loading annotations into memory...\n",
      "Done (t=0.00s)\n",
      "creating index...\n",
      "index created!\n"
     ]
    },
    {
     "data": {
      "text/plain": [
       "{0: {'id': 0,\n",
       "  'image_id': 0,\n",
       "  'category_id': 4,\n",
       "  'bbox': [3, 608, 332.5, 471.5],\n",
       "  'area': 156773.75,\n",
       "  'segmentation': [],\n",
       "  'iscrowd': 0},\n",
       " 1: {'id': 1,\n",
       "  'image_id': 0,\n",
       "  'category_id': 1,\n",
       "  'bbox': [336, 193, 344.5, 770.5],\n",
       "  'area': 265437.25,\n",
       "  'segmentation': [],\n",
       "  'iscrowd': 0},\n",
       " 2: {'id': 2,\n",
       "  'image_id': 0,\n",
       "  'category_id': 4,\n",
       "  'bbox': [628, 13, 380.5, 1002.5],\n",
       "  'area': 381451.25,\n",
       "  'segmentation': [],\n",
       "  'iscrowd': 0},\n",
       " 3: {'id': 3,\n",
       "  'image_id': 0,\n",
       "  'category_id': 4,\n",
       "  'bbox': [1066, 58, 363, 995.5],\n",
       "  'area': 361366.5,\n",
       "  'segmentation': [],\n",
       "  'iscrowd': 0},\n",
       " 4: {'id': 4,\n",
       "  'image_id': 0,\n",
       "  'category_id': 2,\n",
       "  'bbox': [1451, 643, 469, 436.5],\n",
       "  'area': 204718.5,\n",
       "  'segmentation': [],\n",
       "  'iscrowd': 0},\n",
       " 5: {'id': 5,\n",
       "  'image_id': 1,\n",
       "  'category_id': 4,\n",
       "  'bbox': [36, 378, 751.5, 701.5],\n",
       "  'area': 527177.25,\n",
       "  'segmentation': [],\n",
       "  'iscrowd': 0},\n",
       " 6: {'id': 6,\n",
       "  'image_id': 1,\n",
       "  'category_id': 1,\n",
       "  'bbox': [338, 174, 365.5, 734],\n",
       "  'area': 268277,\n",
       "  'segmentation': [],\n",
       "  'iscrowd': 0},\n",
       " 7: {'id': 7,\n",
       "  'image_id': 1,\n",
       "  'category_id': 3,\n",
       "  'bbox': [621, 16, 386, 1003],\n",
       "  'area': 387158,\n",
       "  'segmentation': [],\n",
       "  'iscrowd': 0},\n",
       " 8: {'id': 8,\n",
       "  'image_id': 1,\n",
       "  'category_id': 4,\n",
       "  'bbox': [1069, 44, 355, 717],\n",
       "  'area': 254535,\n",
       "  'segmentation': [],\n",
       "  'iscrowd': 0},\n",
       " 9: {'id': 9,\n",
       "  'image_id': 1,\n",
       "  'category_id': 2,\n",
       "  'bbox': [1091, 361, 496, 719],\n",
       "  'area': 356624,\n",
       "  'segmentation': [],\n",
       "  'iscrowd': 0},\n",
       " 10: {'id': 10,\n",
       "  'image_id': 2,\n",
       "  'category_id': 3,\n",
       "  'bbox': [1, 521, 623, 559],\n",
       "  'area': 348257,\n",
       "  'segmentation': [],\n",
       "  'iscrowd': 0},\n",
       " 11: {'id': 11,\n",
       "  'image_id': 2,\n",
       "  'category_id': 2,\n",
       "  'bbox': [361, 148, 304.5, 825.5],\n",
       "  'area': 251364.75,\n",
       "  'segmentation': [],\n",
       "  'iscrowd': 0},\n",
       " 12: {'id': 12,\n",
       "  'image_id': 2,\n",
       "  'category_id': 3,\n",
       "  'bbox': [631, 21, 376, 998],\n",
       "  'area': 375248,\n",
       "  'segmentation': [],\n",
       "  'iscrowd': 0},\n",
       " 13: {'id': 13,\n",
       "  'image_id': 2,\n",
       "  'category_id': 4,\n",
       "  'bbox': [1071, 51, 356, 1010],\n",
       "  'area': 359560,\n",
       "  'segmentation': [],\n",
       "  'iscrowd': 0},\n",
       " 14: {'id': 14,\n",
       "  'image_id': 2,\n",
       "  'category_id': 1,\n",
       "  'bbox': [1468, 531, 452, 549],\n",
       "  'area': 248148,\n",
       "  'segmentation': [],\n",
       "  'iscrowd': 0}}"
      ]
     },
     "execution_count": 12,
     "metadata": {},
     "output_type": "execute_result"
    }
   ],
   "source": [
    "# label json 가져오기\n",
    "\n",
    "from pycocotools.coco import COCO\n",
    "annotation_path = '(2)_annotations.coco.json'\n",
    "label = COCO(annotation_path)\n",
    "label.anns\n"
   ]
  },
  {
   "cell_type": "code",
   "execution_count": 20,
   "id": "7aa6fb69-200c-4a5c-8577-eb934afc8696",
   "metadata": {
    "execution": {
     "iopub.execute_input": "2024-05-02T19:39:35.798464Z",
     "iopub.status.busy": "2024-05-02T19:39:35.797315Z",
     "iopub.status.idle": "2024-05-02T19:39:35.833175Z",
     "shell.execute_reply": "2024-05-02T19:39:35.831458Z",
     "shell.execute_reply.started": "2024-05-02T19:39:35.798380Z"
    }
   },
   "outputs": [
    {
     "name": "stdout",
     "output_type": "stream",
     "text": [
      "3 608 335.5 1079.5\n",
      "1438.0 660.0 1911.0 1075.0\n",
      "\n",
      "3 608 335.5 1079.5\n",
      "351.0 198.0 663.0 963.0\n",
      "\n",
      "3 608 335.5 1079.5\n",
      "636.0 21.0 995.0 1016.0\n",
      "\n",
      "3 608 335.5 1079.5\n",
      "1071.0 74.0 1412.0 1059.0\n",
      "\n",
      "0\n",
      "----------------------\n",
      "336 193 680.5 963.5\n",
      "1438.0 660.0 1911.0 1075.0\n",
      "\n",
      "336 193 680.5 963.5\n",
      "351.0 198.0 663.0 963.0\n",
      "\n",
      "336 193 680.5 963.5\n",
      "636.0 21.0 995.0 1016.0\n",
      "\n",
      "336 193 680.5 963.5\n",
      "1071.0 74.0 1412.0 1059.0\n",
      "\n",
      "0.8991955725882482\n",
      "----------------------\n",
      "628 13 1008.5 1015.5\n",
      "1438.0 660.0 1911.0 1075.0\n",
      "\n",
      "628 13 1008.5 1015.5\n",
      "351.0 198.0 663.0 963.0\n",
      "\n",
      "628 13 1008.5 1015.5\n",
      "636.0 21.0 995.0 1016.0\n",
      "\n",
      "628 13 1008.5 1015.5\n",
      "1071.0 74.0 1412.0 1059.0\n",
      "\n",
      "0.935526028759475\n",
      "----------------------\n",
      "1066 58 1429 1053.5\n",
      "1438.0 660.0 1911.0 1075.0\n",
      "\n",
      "1066 58 1429 1053.5\n",
      "351.0 198.0 663.0 963.0\n",
      "\n",
      "1066 58 1429 1053.5\n",
      "636.0 21.0 995.0 1016.0\n",
      "\n",
      "1066 58 1429 1053.5\n",
      "1071.0 74.0 1412.0 1059.0\n",
      "\n",
      "0.919523348070983\n",
      "----------------------\n",
      "1451 643 1920 1079.5\n",
      "1438.0 660.0 1911.0 1075.0\n",
      "\n",
      "1451 643 1920 1079.5\n",
      "351.0 198.0 663.0 963.0\n",
      "\n",
      "1451 643 1920 1079.5\n",
      "636.0 21.0 995.0 1016.0\n",
      "\n",
      "1451 643 1920 1079.5\n",
      "1071.0 74.0 1412.0 1059.0\n",
      "\n",
      "0.908556565856073\n",
      "----------------------\n",
      "36 378 787.5 1079.5\n",
      "368.0 177.0 660.0 912.0\n",
      "\n",
      "36 378 787.5 1079.5\n",
      "634.0 26.0 995.0 1031.0\n",
      "\n",
      "36 378 787.5 1079.5\n",
      "1071.0 73.0 1406.0 724.0\n",
      "\n",
      "0.2661481209331263\n",
      "----------------------\n",
      "338 174 703.5 908\n",
      "368.0 177.0 660.0 912.0\n",
      "\n",
      "338 174 703.5 908\n",
      "634.0 26.0 995.0 1031.0\n",
      "\n",
      "338 174 703.5 908\n",
      "1071.0 73.0 1406.0 724.0\n",
      "\n",
      "0.7921913563064819\n",
      "----------------------\n",
      "621 16 1007 1019\n",
      "368.0 177.0 660.0 912.0\n",
      "\n",
      "621 16 1007 1019\n",
      "634.0 26.0 995.0 1031.0\n",
      "\n",
      "621 16 1007 1019\n",
      "1071.0 73.0 1406.0 724.0\n",
      "\n",
      "0.9156632353316815\n",
      "----------------------\n",
      "1069 44 1424 761\n",
      "368.0 177.0 660.0 912.0\n",
      "\n",
      "1069 44 1424 761\n",
      "634.0 26.0 995.0 1031.0\n",
      "\n",
      "1069 44 1424 761\n",
      "1071.0 73.0 1406.0 724.0\n",
      "\n",
      "0.8567976899051211\n",
      "----------------------\n",
      "1091 361 1587 1080\n",
      "368.0 177.0 660.0 912.0\n",
      "\n",
      "1091 361 1587 1080\n",
      "634.0 26.0 995.0 1031.0\n",
      "\n",
      "1091 361 1587 1080\n",
      "1071.0 73.0 1406.0 724.0\n",
      "\n",
      "0.24837954314412075\n",
      "----------------------\n",
      "1 521 624 1080\n",
      "0.0 528.0 611.0 1069.0\n",
      "\n",
      "1 521 624 1080\n",
      "1449.0 561.0 1914.0 1073.0\n",
      "\n",
      "1 521 624 1080\n",
      "367.0 155.0 669.0 968.0\n",
      "\n",
      "1 521 624 1080\n",
      "634.0 23.0 995.0 1015.0\n",
      "\n",
      "1 521 624 1080\n",
      "1069.0 70.0 1412.0 1061.0\n",
      "\n",
      "0.9461350122420427\n",
      "----------------------\n",
      "361 148 665.5 973.5\n",
      "0.0 528.0 611.0 1069.0\n",
      "\n",
      "361 148 665.5 973.5\n",
      "1449.0 561.0 1914.0 1073.0\n",
      "\n",
      "361 148 665.5 973.5\n",
      "367.0 155.0 669.0 968.0\n",
      "\n",
      "361 148 665.5 973.5\n",
      "634.0 23.0 995.0 1015.0\n",
      "\n",
      "361 148 665.5 973.5\n",
      "1069.0 70.0 1412.0 1061.0\n",
      "\n",
      "0.9546448264772959\n",
      "----------------------\n",
      "631 21 1007 1019\n",
      "0.0 528.0 611.0 1069.0\n",
      "\n",
      "631 21 1007 1019\n",
      "1449.0 561.0 1914.0 1073.0\n",
      "\n",
      "631 21 1007 1019\n",
      "367.0 155.0 669.0 968.0\n",
      "\n",
      "631 21 1007 1019\n",
      "634.0 23.0 995.0 1015.0\n",
      "\n",
      "631 21 1007 1019\n",
      "1069.0 70.0 1412.0 1061.0\n",
      "\n",
      "0.9543342003155246\n",
      "----------------------\n",
      "1071 51 1427 1061\n",
      "0.0 528.0 611.0 1069.0\n",
      "\n",
      "1071 51 1427 1061\n",
      "1449.0 561.0 1914.0 1073.0\n",
      "\n",
      "1071 51 1427 1061\n",
      "367.0 155.0 669.0 968.0\n",
      "\n",
      "1071 51 1427 1061\n",
      "634.0 23.0 995.0 1015.0\n",
      "\n",
      "1071 51 1427 1061\n",
      "1069.0 70.0 1412.0 1061.0\n",
      "\n",
      "0.9346936178922504\n",
      "----------------------\n",
      "1468 531 1920 1080\n",
      "0.0 528.0 611.0 1069.0\n",
      "\n",
      "1468 531 1920 1080\n",
      "1449.0 561.0 1914.0 1073.0\n",
      "\n",
      "1468 531 1920 1080\n",
      "367.0 155.0 669.0 968.0\n",
      "\n",
      "1468 531 1920 1080\n",
      "634.0 23.0 995.0 1015.0\n",
      "\n",
      "1468 531 1920 1080\n",
      "1069.0 70.0 1412.0 1061.0\n",
      "\n",
      "0.8855108656873847\n",
      "----------------------\n"
     ]
    }
   ],
   "source": [
    "## label object별로 for문\n",
    "\n",
    "age_label_list = []\n",
    "gender_label_list = []\n",
    "stare_label_list = []\n",
    "\n",
    "age_pred_list = []\n",
    "gender_pred_list = []\n",
    "stare_pred_list = []\n",
    "\n",
    "sum_highest_iou = 0\n",
    "\n",
    "for label_objects in label.anns.values():\n",
    "\n",
    "    # label 전처리\n",
    "    label_str = label.cats[label_objects['category_id']]['name']\n",
    "    gender_str, age_str, stare_str = label_str.split('_')\n",
    "    bboxes_label = label_objects['bbox']\n",
    "    \n",
    "    # label값 list에 저장\n",
    "    if 'female' in gender_str:\n",
    "        gender_label_list.append(0)\n",
    "    else:\n",
    "        gender_label_list.append(1)\n",
    "    if '10' in age_str:\n",
    "        age_label_list.append(0)\n",
    "    elif '20' in age_str:\n",
    "        age_label_list.append(1)\n",
    "    elif '30' in age_str:\n",
    "        age_label_list.append(2)\n",
    "    elif '40' in age_str:\n",
    "        age_label_list.append(3)\n",
    "    else:\n",
    "        assert False\n",
    "    if 'not' in stare_str:\n",
    "        stare_label_list.append(0)\n",
    "    else:\n",
    "        stare_label_list.append(1)\n",
    "\n",
    "    # label frame 추출\n",
    "    frame_id = label_objects['image_id']\n",
    "\n",
    "    # label frame의 오브젝트의 bbox추출\n",
    "    bboxse_preds = [[left, top, right, bottom] for left, top, right, bottom, _, _,_ in pred['track'][frame_id]]\n",
    "\n",
    "    # highest_iou_idx & highest_iou 추출 \n",
    "    highest_iou_idx, highest_iou = find_highest_iou(bboxes_label, bboxse_preds)\n",
    "    sum_highest_iou += highest_iou\n",
    "    \n",
    "    # label object에 대응하는 pred값 추출 \n",
    "    # age_pred_str, gender_pred_str, stare_pred_percent = None, None, None\n",
    "    if highest_iou_idx > 0.4: ###### iou threshold 지정\n",
    "        ReID를위한건데안씀, age_pred_str, gender_pred_str =  pred['par'][str(frame_id)][highest_iou_idx]\n",
    "        ReID를위한건데안씀, stare_pred_percent_str = pred['look'][str(frame_id)][highest_iou_idx]\n",
    "        # print(age_pred_str, gender_pred_str, stare_pred_percent)\n",
    "    else:\n",
    "        gender_pred_list.append(None)\n",
    "        age_pred_list.append(None)\n",
    "        stare_pred_list.append(None)\n",
    "        continue\n",
    "\n",
    "    \n",
    "    # gender_pred_list 구성\n",
    "    gender_pred_list.append(1 if gender_pred_str == 'male' else 0)\n",
    "\n",
    "    # age_pred_list 구성\n",
    "    for i, age_range in enumerate(['young', 'teenager', 'adult', 'old']):\n",
    "        if age_range == age_pred_str:\n",
    "            age_pred_list.append(i)        \n",
    "\n",
    "    # stare_pred_list 구성\n",
    "    stare_pred_list.append(1 if float(stare_pred_percent_str) > 0.5  else 0)\n",
    "    \n",
    "    # print(bbox_preds)\n",
    "    # print(label_objects)"
   ]
  },
  {
   "cell_type": "code",
   "execution_count": 14,
   "id": "6f575ae5-556b-40fb-8718-25acd9634f53",
   "metadata": {
    "execution": {
     "iopub.execute_input": "2024-05-02T19:36:52.200858Z",
     "iopub.status.busy": "2024-05-02T19:36:52.199435Z",
     "iopub.status.idle": "2024-05-02T19:36:52.219780Z",
     "shell.execute_reply": "2024-05-02T19:36:52.218232Z",
     "shell.execute_reply.started": "2024-05-02T19:36:52.200768Z"
    }
   },
   "outputs": [
    {
     "name": "stdout",
     "output_type": "stream",
     "text": [
      "gender_acc :  0.26666666666666666\n",
      "age_acc :  0.6\n",
      "stare_acc :  0.4\n"
     ]
    }
   ],
   "source": [
    "### 정확도 확인\n",
    "\n",
    "gender_acc = 0\n",
    "age_acc = 0\n",
    "stare_acc = 0\n",
    "for i in range(len(gender_label_list)):\n",
    "\tif gender_label_list[i] == gender_pred_list[i]:\n",
    "\t\tgender_acc += 1\n",
    "\tif age_label_list[i] == age_pred_list[i]:\n",
    "\t\tage_acc += 1\n",
    "\tif stare_label_list[i] == stare_pred_list[i]:\n",
    "\t\tstare_acc += 1\n",
    "gender_acc /= len(gender_pred_list)\n",
    "age_acc /= len(gender_pred_list)\n",
    "stare_acc /= len(gender_pred_list)\n",
    "print(\"gender_acc : \", gender_acc)\n",
    "print(\"age_acc : \", age_acc)\n",
    "print(\"stare_acc : \", stare_acc)"
   ]
  },
  {
   "cell_type": "code",
   "execution_count": 26,
   "id": "c6e9b671-e807-42d3-be39-924902bf1629",
   "metadata": {
    "execution": {
     "iopub.execute_input": "2024-05-03T07:34:00.572593Z",
     "iopub.status.busy": "2024-05-03T07:34:00.571351Z",
     "iopub.status.idle": "2024-05-03T07:34:00.587857Z",
     "shell.execute_reply": "2024-05-03T07:34:00.584981Z",
     "shell.execute_reply.started": "2024-05-03T07:34:00.572501Z"
    }
   },
   "outputs": [
    {
     "data": {
      "text/plain": [
       "0.7611533322339874"
      ]
     },
     "execution_count": 26,
     "metadata": {},
     "output_type": "execute_result"
    }
   ],
   "source": [
    "## highest_iou 평균 확인\n",
    "sum_highest_iou/15"
   ]
  },
  {
   "cell_type": "code",
   "execution_count": 27,
   "id": "e2af1b88-361b-4dfd-8153-3499bc514081",
   "metadata": {
    "execution": {
     "iopub.execute_input": "2024-05-03T07:34:02.230980Z",
     "iopub.status.busy": "2024-05-03T07:34:02.229675Z",
     "iopub.status.idle": "2024-05-03T07:34:02.246098Z",
     "shell.execute_reply": "2024-05-03T07:34:02.243468Z",
     "shell.execute_reply.started": "2024-05-03T07:34:02.230863Z"
    }
   },
   "outputs": [
    {
     "data": {
      "text/plain": [
       "[None, 1, 1, 0, None, None, None, 1, 1, 1, None, 1, 1, 0, 1]"
      ]
     },
     "execution_count": 27,
     "metadata": {},
     "output_type": "execute_result"
    }
   ],
   "source": [
    "gender_pred_list"
   ]
  },
  {
   "cell_type": "code",
   "execution_count": 28,
   "id": "af5eeb91-b62a-4cdf-b66f-9bf0aa041632",
   "metadata": {
    "execution": {
     "iopub.execute_input": "2024-05-03T07:34:02.719937Z",
     "iopub.status.busy": "2024-05-03T07:34:02.718898Z",
     "iopub.status.idle": "2024-05-03T07:34:02.735527Z",
     "shell.execute_reply": "2024-05-03T07:34:02.732968Z",
     "shell.execute_reply.started": "2024-05-03T07:34:02.719854Z"
    }
   },
   "outputs": [
    {
     "data": {
      "text/plain": [
       "[1, 0, 1, 1, 0, 1, 0, 1, 1, 0, 1, 0, 1, 1, 0]"
      ]
     },
     "execution_count": 28,
     "metadata": {},
     "output_type": "execute_result"
    }
   ],
   "source": [
    "gender_label_list"
   ]
  },
  {
   "cell_type": "code",
   "execution_count": 29,
   "id": "6f02ae86-467e-43d4-8495-6784f74cf46a",
   "metadata": {
    "execution": {
     "iopub.execute_input": "2024-05-03T07:34:04.036371Z",
     "iopub.status.busy": "2024-05-03T07:34:04.035056Z",
     "iopub.status.idle": "2024-05-03T07:34:04.051636Z",
     "shell.execute_reply": "2024-05-03T07:34:04.049910Z",
     "shell.execute_reply.started": "2024-05-03T07:34:04.036252Z"
    }
   },
   "outputs": [
    {
     "data": {
      "text/plain": [
       "[None, 2, 1, 1, None, None, None, 1, 1, 1, None, 1, 1, 1, 1]"
      ]
     },
     "execution_count": 29,
     "metadata": {},
     "output_type": "execute_result"
    }
   ],
   "source": [
    "age_pred_list"
   ]
  },
  {
   "cell_type": "code",
   "execution_count": 30,
   "id": "63dc967d-a315-4b32-9306-7e6ee093bb4d",
   "metadata": {
    "execution": {
     "iopub.execute_input": "2024-05-03T07:34:05.350566Z",
     "iopub.status.busy": "2024-05-03T07:34:05.349240Z",
     "iopub.status.idle": "2024-05-03T07:34:05.366573Z",
     "shell.execute_reply": "2024-05-03T07:34:05.364213Z",
     "shell.execute_reply.started": "2024-05-03T07:34:05.350467Z"
    }
   },
   "outputs": [
    {
     "data": {
      "text/plain": [
       "[1, 1, 1, 1, 1, 1, 1, 1, 1, 1, 1, 1, 1, 1, 1]"
      ]
     },
     "execution_count": 30,
     "metadata": {},
     "output_type": "execute_result"
    }
   ],
   "source": [
    "age_label_list"
   ]
  },
  {
   "cell_type": "code",
   "execution_count": 31,
   "id": "1bdfaf3e-437f-4ce2-be7d-b2af61b02a8d",
   "metadata": {
    "execution": {
     "iopub.execute_input": "2024-05-03T07:34:06.339186Z",
     "iopub.status.busy": "2024-05-03T07:34:06.338123Z",
     "iopub.status.idle": "2024-05-03T07:34:06.353650Z",
     "shell.execute_reply": "2024-05-03T07:34:06.351333Z",
     "shell.execute_reply.started": "2024-05-03T07:34:06.339100Z"
    }
   },
   "outputs": [
    {
     "data": {
      "text/plain": [
       "[None, 0, 1, 1, None, None, None, 1, 1, 1, None, 1, 1, 0, 1]"
      ]
     },
     "execution_count": 31,
     "metadata": {},
     "output_type": "execute_result"
    }
   ],
   "source": [
    "stare_pred_list"
   ]
  },
  {
   "cell_type": "code",
   "execution_count": 32,
   "id": "9cb2fd49-5490-4302-a9a6-47f03a49645c",
   "metadata": {
    "execution": {
     "iopub.execute_input": "2024-05-03T07:34:06.972668Z",
     "iopub.status.busy": "2024-05-03T07:34:06.971559Z",
     "iopub.status.idle": "2024-05-03T07:34:06.987754Z",
     "shell.execute_reply": "2024-05-03T07:34:06.985554Z",
     "shell.execute_reply.started": "2024-05-03T07:34:06.972586Z"
    }
   },
   "outputs": [
    {
     "data": {
      "text/plain": [
       "[1, 0, 1, 1, 1, 1, 0, 0, 1, 1, 0, 1, 0, 1, 0]"
      ]
     },
     "execution_count": 32,
     "metadata": {},
     "output_type": "execute_result"
    }
   ],
   "source": [
    "stare_label_list"
   ]
  }
 ],
 "metadata": {
  "kernelspec": {
   "display_name": "soobin",
   "language": "python",
   "name": "soobin"
  },
  "language_info": {
   "codemirror_mode": {
    "name": "ipython",
    "version": 3
   },
   "file_extension": ".py",
   "mimetype": "text/x-python",
   "name": "python",
   "nbconvert_exporter": "python",
   "pygments_lexer": "ipython3",
   "version": "3.8.19"
  }
 },
 "nbformat": 4,
 "nbformat_minor": 5
}
